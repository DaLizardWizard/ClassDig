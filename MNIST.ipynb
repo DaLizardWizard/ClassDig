{
 "cells": [
  {
   "cell_type": "markdown",
   "id": "bcad82dd",
   "metadata": {},
   "source": [
    "# Fetching the data\n",
    "We fetch the data and transform the image files using our transforms, in this case our images are already normalised, if they were RGB or nCh images we might want to normalise their respective channels as a pre-processing technique."
   ]
  },
  {
   "cell_type": "code",
   "execution_count": 70,
   "id": "82d044e6",
   "metadata": {},
   "outputs": [
    {
     "name": "stdout",
     "output_type": "stream",
     "text": [
      "1.10.1+cu102\n",
      "--2022-01-12 17:10:04--  http://www.di.ens.fr/~lelarge/MNIST.tar.gz\n",
      "Resolving www.di.ens.fr (www.di.ens.fr)... 129.199.99.14\n",
      "Connecting to www.di.ens.fr (www.di.ens.fr)|129.199.99.14|:80... connected.\n",
      "HTTP request sent, awaiting response... 302 Found\n",
      "Location: https://www.di.ens.fr/~lelarge/MNIST.tar.gz [following]\n",
      "--2022-01-12 17:10:04--  https://www.di.ens.fr/~lelarge/MNIST.tar.gz\n",
      "Connecting to www.di.ens.fr (www.di.ens.fr)|129.199.99.14|:443... connected.\n",
      "HTTP request sent, awaiting response... 200 OK\n",
      "Length: unspecified [application/x-gzip]\n",
      "Saving to: ‘MNIST.tar.gz.2’\n",
      "\n",
      "MNIST.tar.gz.2          [          <=>       ]  33.20M  18.3MB/s    in 1.8s    \n",
      "\n",
      "2022-01-12 17:10:06 (18.3 MB/s) - ‘MNIST.tar.gz.2’ saved [34813078]\n",
      "\n",
      "MNIST/\n",
      "MNIST/raw/\n",
      "MNIST/raw/train-labels-idx1-ubyte\n",
      "MNIST/raw/t10k-labels-idx1-ubyte.gz\n",
      "MNIST/raw/t10k-labels-idx1-ubyte\n",
      "MNIST/raw/t10k-images-idx3-ubyte.gz\n",
      "MNIST/raw/train-images-idx3-ubyte\n",
      "MNIST/raw/train-labels-idx1-ubyte.gz\n",
      "MNIST/raw/t10k-images-idx3-ubyte\n",
      "MNIST/raw/train-images-idx3-ubyte.gz\n",
      "MNIST/processed/\n",
      "MNIST/processed/training.pt\n",
      "MNIST/processed/test.pt\n"
     ]
    }
   ],
   "source": [
    "import matplotlib.pyplot as plt\n",
    "import os\n",
    "import torch\n",
    "import torchvision\n",
    "import torchvision.transforms as transforms\n",
    "import pandas as pd\n",
    "from torchvision.datasets import MNIST\n",
    "import numpy as np\n",
    "import pandas as pd\n",
    "import seaborn as sns\n",
    "from tqdm.notebook import tqdm\n",
    "import matplotlib.pyplot as plt\n",
    "import torch\n",
    "import torchvision\n",
    "import torch.nn as nn\n",
    "import torch.optim as optim\n",
    "import torch.nn.functional as F\n",
    "from torchvision import transforms, utils, datasets, models\n",
    "from torch.utils.data import Dataset, DataLoader, SubsetRandomSampler\n",
    "from sklearn.metrics import classification_report, confusion_matrix\n",
    "\n",
    "print(torch.__version__)\n",
    "# #For some reason the download never completes, downlaoding manually\n",
    "\n",
    "# train_dataset = MNIST(os.getcwd(), train=True, download=True, transform = None)\n",
    "# test_dataset = MNIST(os.getcwd(), train=False, download=True, transform = None)\n",
    "\n",
    "\"\"\"\n",
    "Folks here (https://stackoverflow.com/questions/66577151/http-error-when-trying-to-download-mnist-data) \\\n",
    "describe that there seems to be issues sometimes with downlaoding the datasets when high traffic so I will just load them from \\\n",
    "here since i have tried a couple of tiems over the last few hours while runnig in background.\n",
    "\"\"\"\n",
    "!wget www.di.ens.fr/~lelarge/MNIST.tar.gz\n",
    "!tar -zxvf MNIST.tar.gz\n",
    "\n",
    "train_set = MNIST('./', download=True,\n",
    "transform=transforms.Compose([\n",
    "transforms.ToTensor(),\n",
    "]), train=True)\n",
    "\n",
    "\n",
    "test_set = MNIST('./', download=True,\n",
    "transform=transforms.Compose([\n",
    "transforms.ToTensor(),\n",
    "]), train=False)"
   ]
  },
  {
   "cell_type": "markdown",
   "id": "a0e840d9",
   "metadata": {},
   "source": [
    "# See what sort of data we have"
   ]
  },
  {
   "cell_type": "code",
   "execution_count": 68,
   "id": "bef76793",
   "metadata": {
    "scrolled": true
   },
   "outputs": [
    {
     "name": "stdout",
     "output_type": "stream",
     "text": [
      "This gives info about our train set\n",
      "\n",
      "Dataset MNIST\n",
      "    Number of datapoints: 60000\n",
      "    Root location: ./\n",
      "    Split: Train\n",
      "    StandardTransform\n",
      "Transform: Compose(\n",
      "               ToTensor()\n",
      "           )\n",
      "\n",
      "This gives info about our test set\n",
      "\n",
      "Dataset MNIST\n",
      "    Number of datapoints: 10000\n",
      "    Root location: ./\n",
      "    Split: Test\n",
      "    StandardTransform\n",
      "Transform: Compose(\n",
      "               ToTensor()\n",
      "           )\n",
      "\n",
      "This gives info about our train samples class:index mapping\n",
      "\n",
      "{'0 - zero': 0, '1 - one': 1, '2 - two': 2, '3 - three': 3, '4 - four': 4, '5 - five': 5, '6 - six': 6, '7 - seven': 7, '8 - eight': 8, '9 - nine': 9}\n",
      "\n",
      "This gives info about our test samples class:index mapping\n",
      "\n",
      "{'0 - zero': 0, '1 - one': 1, '2 - two': 2, '3 - three': 3, '4 - four': 4, '5 - five': 5, '6 - six': 6, '7 - seven': 7, '8 - eight': 8, '9 - nine': 9}\n"
     ]
    },
    {
     "data": {
      "image/png": "[encoded data removed]",
      "text/plain": [
       "<Figure size 432x288 with 10 Axes>"
      ]
     },
     "metadata": {
      "needs_background": "light"
     },
     "output_type": "display_data"
    },
    {
     "data": {
      "image/png": "[encoded data removed]",
      "text/plain": [
       "<Figure size 432x288 with 10 Axes>"
      ]
     },
     "metadata": {
      "needs_background": "light"
     },
     "output_type": "display_data"
    }
   ],
   "source": [
    "\"\"\"\n",
    "We are checking here to make sure everything looks \"normal\" before proceeding. Such as we actually have datapoints to\n",
    "train our model with and that the class:index mappings make sense e.g class \"Number 5\" is mapped to idx 5\n",
    "of course it's fine if it wasnt, we would just have to udjust class lables to something sensible. Also checking that same classes\n",
    "are used for train and test data.\n",
    "\"\"\"\n",
    "\n",
    "print(\"This gives info about our train set\\n\")\n",
    "print(train_set)\n",
    "print(\"\\nThis gives info about our test set\\n\")\n",
    "print(test_set)\n",
    "print(\"\\nThis gives info about our train samples class:index mapping\\n\")\n",
    "print(train_set.class_to_idx)\n",
    "print(\"\\nThis gives info about our test samples class:index mapping\\n\")\n",
    "print(test_set.class_to_idx)\n",
    "#flipthatdict\n",
    "idx2class = {v: k for k, v in train_set.class_to_idx.items()}\n",
    "\n",
    "#see if we have images\n",
    "N_IMAGES = 10\n",
    "\n",
    "def plot_images(images):\n",
    "    n_images = len(images)\n",
    "    fig = plt.figure()\n",
    "    for i in range(n_images):\n",
    "        ax = fig.add_subplot(1, n_images, i+1)\n",
    "        ax.imshow(images[i].view(28, 28).cpu().numpy(), cmap='bone')\n",
    "        ax.axis('off')\n",
    "        \n",
    "train_images = [image for image, label in [train_set[i] for i in range(N_IMAGES)]]\n",
    "test_images = [image for image, label in [test_set[i] for i in range(N_IMAGES)]]\n",
    "\n",
    "plot_images(train_images)\n",
    "plot_images(test_images)"
   ]
  },
  {
   "cell_type": "markdown",
   "id": "501015cf",
   "metadata": {},
   "source": [
    "# See that classes are distributed normally for our TRAIN dataset. "
   ]
  },
  {
   "cell_type": "code",
   "execution_count": 49,
   "id": "bc9c17a6",
   "metadata": {
    "scrolled": true
   },
   "outputs": [
    {
     "name": "stdout",
     "output_type": "stream",
     "text": [
      "seaborn imported\n",
      "numpy imported\n",
      "No Imbalance\n"
     ]
    },
    {
     "data": {
      "image/png": "[encoded data removed]",
      "text/plain": [
       "<Figure size 1080x576 with 1 Axes>"
      ]
     },
     "metadata": {
      "needs_background": "light"
     },
     "output_type": "display_data"
    }
   ],
   "source": [
    "\"\"\"\n",
    "We want to check that all the classes are distribued (relatively) evenly for a balanced training process\n",
    "If we had significant data imbalance we could augment the minority classes to reduce class imbalance\n",
    "\"\"\"\n",
    "#checking if packages are installed, would contain all dependencies in a docker file if not just for quick example\n",
    "try:\n",
    "    import seaborn as sns\n",
    "    print(\"seaborn imported\")\n",
    "    import numpy as np\n",
    "    print(\"numpy imported\")\n",
    "except ImportError as e:\n",
    "    !pip install seaborn\n",
    "    !pip install numpy\n",
    "\n",
    "def get_class_distribution(dataset_obj):\n",
    "    count_dict = {k:0 for k,v in dataset_obj.class_to_idx.items()}\n",
    "    for _, label_id in dataset_obj:\n",
    "        label = idx2class[label_id]\n",
    "        count_dict[label] += 1\n",
    "    return count_dict\n",
    "\n",
    "def plot_from_dict(dict_obj, plot_title, **kwargs):\n",
    "    return sns.barplot(data = pd.DataFrame.from_dict([dict_obj]).melt(), x = \"variable\", y=\"value\", hue=\"variable\", **kwargs).set_title(plot_title)\n",
    "\n",
    "#visual check\n",
    "count_dic = get_class_distribution(train_set)\n",
    "plt.figure(figsize=(15,8))\n",
    "plot_from_dict(count_dic, plot_title=\"Entire Dataset (before train/val/test split)\")\n",
    "\n",
    "#mathmatical check to see if there is no major class imbalance\n",
    "def ImbalanceCheck(count_dic):\n",
    "        count_list = []\n",
    "        for value in count_dic.values():\n",
    "            count_list.append(value)\n",
    "        mean = np.mean(count_list)\n",
    "        std = np.std(count_list)\n",
    "        pcdev = std/mean*100\n",
    "        \n",
    "        if pcdev > 10:\n",
    "            print(\"Imbalance detected\")\n",
    "        else:\n",
    "            print(\"No Imbalance\")\n",
    "\n",
    "ImbalanceCheck(count_dic)"
   ]
  },
  {
   "cell_type": "code",
   "execution_count": 139,
   "id": "e2cde29d",
   "metadata": {},
   "outputs": [],
   "source": [
    "#splitting our dataset\n",
    "\n",
    "train_set_size = len(train_set)\n",
    "train_set_indices = list(range(train_set_size))\n",
    "np.random.shuffle(train_set_indices)\n",
    "val_split_index = int(np.floor(0.2 * train_set_size))\n",
    "\n",
    "#getting the list of indexes that correspond to our split and randomly subsampling                       \n",
    "train_idx, val_idx = train_set_indices[val_split_index:], train_set_indices[:val_split_index]\n",
    "train_sampler = SubsetRandomSampler(train_idx)\n",
    "val_sampler = SubsetRandomSampler(val_idx)\n",
    "                         "
   ]
  },
  {
   "cell_type": "code",
   "execution_count": 140,
   "id": "d1191b34",
   "metadata": {},
   "outputs": [
    {
     "name": "stdout",
     "output_type": "stream",
     "text": [
      "No Imbalance\n",
      "No Imbalance\n"
     ]
    }
   ],
   "source": [
    "train_loader = DataLoader(dataset=train_set, shuffle=False, batch_size=8, sampler=train_sampler)\n",
    "val_loader = DataLoader(dataset=train_set, shuffle=False, batch_size=1, sampler=val_sampler)\n",
    "test_loader = DataLoader(dataset=test_set, shuffle=False, batch_size=1)\n",
    "\n",
    "\n",
    "def get_class_distribution_loaders(dataloader_obj, dataset_obj):\n",
    "    count_dict = {k:0 for k,v in dataset_obj.class_to_idx.items()}\n",
    "    if dataloader_obj.batch_size == 1:    \n",
    "        for _,label_id in dataloader_obj:\n",
    "            y_idx = label_id.item()\n",
    "            y_lbl = idx2class[y_idx]\n",
    "            count_dict[str(y_lbl)] += 1\n",
    "    else: \n",
    "        for _,label_id in dataloader_obj:\n",
    "            for idx in label_id:\n",
    "                y_idx = idx.item()\n",
    "                y_lbl = idx2class[y_idx]\n",
    "                count_dict[str(y_lbl)] += 1\n",
    "    return count_dict\n",
    "\n",
    "#Could visualise class balances here but lets jsut check if they are fine using our previous function\n",
    "#train distro\n",
    "train_counts = get_class_distribution_loaders(train_loader, train_set)\n",
    "#val distro\n",
    "val_counts = get_class_distribution_loaders(val_loader, train_set)\n",
    "ImbalanceCheck(train_counts)\n",
    "ImbalanceCheck(val_counts)"
   ]
  },
  {
   "cell_type": "code",
   "execution_count": 208,
   "id": "cdf6e70f",
   "metadata": {},
   "outputs": [],
   "source": [
    "device = torch.device(\"cuda\" if torch.cuda.is_available() \n",
    "                                  else \"cpu\")\n",
    "class ConvClassifier(nn.Module):\n",
    "    def __init__(self):\n",
    "        super(ConvClassifier, self).__init__()\n",
    "        self.conv1 = nn.Conv2d(1, 10, kernel_size=5)\n",
    "        self.conv2 = nn.Conv2d(10, 20, kernel_size=5)\n",
    "        self.conv2_drop = nn.Dropout2d()\n",
    "        self.fc1 = nn.Linear(320, 50)\n",
    "        self.fc2 = nn.Linear(50, 10)\n",
    "\n",
    "    def forward(self, x):\n",
    "        x = F.relu(F.max_pool2d(self.conv1(x), 2))\n",
    "        x = F.relu(F.max_pool2d(self.conv2_drop(self.conv2(x)), 2))\n",
    "        x = x.view(-1, 320)\n",
    "        x = F.relu(self.fc1(x))\n",
    "        x = F.dropout(x, training=self.training)\n",
    "        x = self.fc2(x)\n",
    "        return F.log_softmax(x)\n",
    "    \n",
    "model = ConvClassifier()\n",
    "model.to(device)\n",
    "\n",
    "criterion = nn.CrossEntropyLoss()\n",
    "optimizer = optim.Adam(model.parameters(), lr=0.001)\n",
    "\n",
    "\n",
    "train_losses = []\n",
    "train_counter = []\n",
    "test_losses = []\n",
    "test_counter = [i*len(train_loader.dataset) for i in range(n_epochs + 1)]"
   ]
  },
  {
   "cell_type": "code",
   "execution_count": 209,
   "id": "f5f11751",
   "metadata": {},
   "outputs": [],
   "source": [
    "def train(epoch):\n",
    "    model.train()\n",
    "    for batch_idx, (data, target) in enumerate(train_loader):\n",
    "        optimizer.zero_grad()\n",
    "        output = model(data)\n",
    "        loss = F.nll_loss(output, target)\n",
    "        loss.backward()\n",
    "        optimizer.step()\n",
    "        #print(loss.item())\n",
    "        if batch_idx % log_interval == 0:\n",
    "            print('Train Epoch: {} [{}/{} ({:.0f}%)]\\tLoss: {:.6f}'.format(\n",
    "                epoch, batch_idx * len(data), len(train_loader.dataset),\n",
    "                100. * batch_idx / len(train_loader), loss.item()))\n",
    "            train_losses.append(loss.item())\n",
    "            #print(train_losses)\n",
    "            train_counter.append(\n",
    "                (batch_idx*64) + ((epoch-1)*len(train_loader.dataset)))\n",
    "            #Commented out since \n",
    "            torch.save(model.state_dict(), './results/model.pth')\n",
    "            torch.save(optimizer.state_dict(), './results/optimizer.pth')"
   ]
  },
  {
   "cell_type": "code",
   "execution_count": 210,
   "id": "b7ffc733",
   "metadata": {},
   "outputs": [],
   "source": [
    "def test():\n",
    "    model.eval()\n",
    "    test_loss = 0\n",
    "    correct = 0\n",
    "    with torch.no_grad():\n",
    "        for data, target in test_loader:\n",
    "            output = model(data)\n",
    "            test_loss += F.nll_loss(output, target, size_average=False).item()\n",
    "            pred = output.data.max(1, keepdim=True)[1]\n",
    "            correct += pred.eq(target.data.view_as(pred)).sum()\n",
    "    test_loss /= len(test_loader.dataset)\n",
    "    test_losses.append(test_loss)\n",
    "    print('\\nTest set: Avg. loss: {:.4f}, Accuracy: {}/{} ({:.0f}%)\\n'.format(\n",
    "    test_loss, correct, len(test_loader.dataset),\n",
    "    100. * correct / len(test_loader.dataset)))"
   ]
  },
  {
   "cell_type": "code",
   "execution_count": 211,
   "id": "6075d86b",
   "metadata": {
    "scrolled": true
   },
   "outputs": [
    {
     "name": "stderr",
     "output_type": "stream",
     "text": [
      "/tmp/ipykernel_3548/1051242959.py:19: UserWarning: Implicit dimension choice for log_softmax has been deprecated. Change the call to include dim=X as an argument.\n",
      "  return F.log_softmax(x)\n"
     ]
    },
    {
     "name": "stdout",
     "output_type": "stream",
     "text": [
      "\n",
      "Test set: Avg. loss: 2.3063, Accuracy: 891/10000 (9%)\n",
      "\n",
      "Train Epoch: 1 [0/60000 (0%)]\tLoss: 2.225564\n",
      "Train Epoch: 1 [8000/60000 (17%)]\tLoss: 0.841725\n",
      "Train Epoch: 1 [16000/60000 (33%)]\tLoss: 0.367243\n",
      "Train Epoch: 1 [24000/60000 (50%)]\tLoss: 0.520543\n",
      "Train Epoch: 1 [32000/60000 (67%)]\tLoss: 0.313352\n",
      "Train Epoch: 1 [40000/60000 (83%)]\tLoss: 0.676738\n",
      "\n",
      "Test set: Avg. loss: 0.0980, Accuracy: 9701/10000 (97%)\n",
      "\n",
      "Train Epoch: 2 [0/60000 (0%)]\tLoss: 0.214880\n",
      "Train Epoch: 2 [8000/60000 (17%)]\tLoss: 0.236312\n",
      "Train Epoch: 2 [16000/60000 (33%)]\tLoss: 0.107086\n",
      "Train Epoch: 2 [24000/60000 (50%)]\tLoss: 0.147480\n",
      "Train Epoch: 2 [32000/60000 (67%)]\tLoss: 0.131014\n",
      "Train Epoch: 2 [40000/60000 (83%)]\tLoss: 0.491564\n",
      "\n",
      "Test set: Avg. loss: 0.0791, Accuracy: 9759/10000 (98%)\n",
      "\n",
      "Train Epoch: 3 [0/60000 (0%)]\tLoss: 0.020525\n",
      "Train Epoch: 3 [8000/60000 (17%)]\tLoss: 0.021181\n",
      "Train Epoch: 3 [16000/60000 (33%)]\tLoss: 0.049216\n",
      "Train Epoch: 3 [24000/60000 (50%)]\tLoss: 0.004381\n",
      "Train Epoch: 3 [32000/60000 (67%)]\tLoss: 0.427079\n",
      "Train Epoch: 3 [40000/60000 (83%)]\tLoss: 0.003218\n",
      "\n",
      "Test set: Avg. loss: 0.0743, Accuracy: 9785/10000 (98%)\n",
      "\n",
      "Train Epoch: 4 [0/60000 (0%)]\tLoss: 0.173186\n",
      "Train Epoch: 4 [8000/60000 (17%)]\tLoss: 0.114699\n",
      "Train Epoch: 4 [16000/60000 (33%)]\tLoss: 0.059814\n",
      "Train Epoch: 4 [24000/60000 (50%)]\tLoss: 0.097898\n",
      "Train Epoch: 4 [32000/60000 (67%)]\tLoss: 0.368667\n",
      "Train Epoch: 4 [40000/60000 (83%)]\tLoss: 0.019990\n",
      "\n",
      "Test set: Avg. loss: 0.0602, Accuracy: 9824/10000 (98%)\n",
      "\n",
      "Train Epoch: 5 [0/60000 (0%)]\tLoss: 0.263217\n",
      "Train Epoch: 5 [8000/60000 (17%)]\tLoss: 0.000793\n",
      "Train Epoch: 5 [16000/60000 (33%)]\tLoss: 0.065744\n",
      "Train Epoch: 5 [24000/60000 (50%)]\tLoss: 0.143342\n",
      "Train Epoch: 5 [32000/60000 (67%)]\tLoss: 0.002345\n",
      "Train Epoch: 5 [40000/60000 (83%)]\tLoss: 0.003184\n",
      "\n",
      "Test set: Avg. loss: 0.0605, Accuracy: 9817/10000 (98%)\n",
      "\n",
      "Train Epoch: 6 [0/60000 (0%)]\tLoss: 0.486316\n",
      "Train Epoch: 6 [8000/60000 (17%)]\tLoss: 0.285521\n",
      "Train Epoch: 6 [16000/60000 (33%)]\tLoss: 0.002252\n",
      "Train Epoch: 6 [24000/60000 (50%)]\tLoss: 0.667543\n",
      "Train Epoch: 6 [32000/60000 (67%)]\tLoss: 0.091521\n",
      "Train Epoch: 6 [40000/60000 (83%)]\tLoss: 0.671462\n",
      "\n",
      "Test set: Avg. loss: 0.0595, Accuracy: 9821/10000 (98%)\n",
      "\n",
      "Train Epoch: 7 [0/60000 (0%)]\tLoss: 0.242150\n",
      "Train Epoch: 7 [8000/60000 (17%)]\tLoss: 0.038589\n",
      "Train Epoch: 7 [16000/60000 (33%)]\tLoss: 0.059813\n",
      "Train Epoch: 7 [24000/60000 (50%)]\tLoss: 0.040198\n",
      "Train Epoch: 7 [32000/60000 (67%)]\tLoss: 0.096027\n",
      "Train Epoch: 7 [40000/60000 (83%)]\tLoss: 0.017943\n",
      "\n",
      "Test set: Avg. loss: 0.0546, Accuracy: 9838/10000 (98%)\n",
      "\n",
      "Train Epoch: 8 [0/60000 (0%)]\tLoss: 0.612480\n",
      "Train Epoch: 8 [8000/60000 (17%)]\tLoss: 0.000157\n",
      "Train Epoch: 8 [16000/60000 (33%)]\tLoss: 0.087497\n",
      "Train Epoch: 8 [24000/60000 (50%)]\tLoss: 0.068570\n",
      "Train Epoch: 8 [32000/60000 (67%)]\tLoss: 0.021300\n",
      "Train Epoch: 8 [40000/60000 (83%)]\tLoss: 0.089917\n",
      "\n",
      "Test set: Avg. loss: 0.0520, Accuracy: 9844/10000 (98%)\n",
      "\n",
      "Train Epoch: 9 [0/60000 (0%)]\tLoss: 0.394605\n",
      "Train Epoch: 9 [8000/60000 (17%)]\tLoss: 0.010175\n",
      "Train Epoch: 9 [16000/60000 (33%)]\tLoss: 0.146979\n",
      "Train Epoch: 9 [24000/60000 (50%)]\tLoss: 0.016643\n",
      "Train Epoch: 9 [32000/60000 (67%)]\tLoss: 0.069374\n",
      "Train Epoch: 9 [40000/60000 (83%)]\tLoss: 0.399764\n",
      "\n",
      "Test set: Avg. loss: 0.0576, Accuracy: 9821/10000 (98%)\n",
      "\n",
      "Train Epoch: 10 [0/60000 (0%)]\tLoss: 0.185098\n",
      "Train Epoch: 10 [8000/60000 (17%)]\tLoss: 0.157626\n",
      "Train Epoch: 10 [16000/60000 (33%)]\tLoss: 0.080580\n",
      "Train Epoch: 10 [24000/60000 (50%)]\tLoss: 0.001283\n",
      "Train Epoch: 10 [32000/60000 (67%)]\tLoss: 0.054590\n",
      "Train Epoch: 10 [40000/60000 (83%)]\tLoss: 0.501546\n",
      "\n",
      "Test set: Avg. loss: 0.0536, Accuracy: 9831/10000 (98%)\n",
      "\n"
     ]
    }
   ],
   "source": [
    "\"\"\"\n",
    "After training for 10 epochs accuracy is 99% and test loss is higher than training loss so unlikely the model is overfitting.\n",
    "Ideally I would implement an early stopping function where if test_loss > than train_loss then break from training loop.\n",
    "Additionally, all aspects of the model training (code used to run, model artificats (settings,model,etc)) can be logged and\n",
    "then optimised to a tracking server such as MLFlow \n",
    "(https://www.phdata.io/blog/bayesian-hyperparameter-optimization-with-mlflow/)\n",
    "\"\"\"\n",
    "\n",
    "n_epochs = 10\n",
    "batch_size_train = 64\n",
    "batch_size_test = 1000\n",
    "log_interval = 1000\n",
    "test()\n",
    "for epoch in range(1, n_epochs + 1):\n",
    "    train(epoch)\n",
    "    test()"
   ]
  },
  {
   "cell_type": "code",
   "execution_count": 219,
   "id": "041b4838",
   "metadata": {},
   "outputs": [],
   "source": [
    "model.eval()\n",
    "torch.save(model, 'results/shoop.pth')\n",
    "\n"
   ]
  }
 ],
 "metadata": {
  "kernelspec": {
   "display_name": "Python 3 (ipykernel)",
   "language": "python",
   "name": "python3"
  },
  "language_info": {
   "codemirror_mode": {
    "name": "ipython",
    "version": 3
   },
   "file_extension": ".py",
   "mimetype": "text/x-python",
   "name": "python",
   "nbconvert_exporter": "python",
   "pygments_lexer": "ipython3",
   "version": "3.8.3"
  }
 },
 "nbformat": 4,
 "nbformat_minor": 5
}
